{
 "cells": [
  {
   "cell_type": "code",
   "execution_count": 1,
   "metadata": {},
   "outputs": [],
   "source": [
    "CLIENT_ID = 'AKL0ZYIUDTVGTKAN1UYPQDQZHLDS1QDOMQS3451YOPK5T2M5' # your Foursquare ID\n",
    "CLIENT_SECRET = '24HCTWNAO4IKAIDOTPHW5VVK4M4BUAOAE5YZGLWDSB5VHFOJ' # your Foursquare Secret\n",
    "VERSION = '20180605' # Foursquare API version\n",
    "\n",
    "import requests\n",
    "import numpy as np\n",
    "import pandas as pd\n",
    "import matplotlib.pyplot as pyplot"
   ]
  },
  {
   "cell_type": "markdown",
   "metadata": {},
   "source": [
    "##### Retrieve Postal Codes of Bangalore region with Latitude and Longitude"
   ]
  },
  {
   "cell_type": "code",
   "execution_count": 2,
   "metadata": {},
   "outputs": [
    {
     "data": {
      "text/plain": [
       "(154797, 15)"
      ]
     },
     "execution_count": 2,
     "metadata": {},
     "output_type": "execute_result"
    }
   ],
   "source": [
    "#\n",
    "postalCodeWithLocation = pd.read_csv(r\"C:\\Users\\tmadan\\Desktop\\Capstone\\myDataScienceExperiments\\PO_Location.csv\");\n",
    "postalCodeWithLocation.shape"
   ]
  },
  {
   "cell_type": "code",
   "execution_count": 3,
   "metadata": {},
   "outputs": [
    {
     "data": {
      "text/plain": [
       "(602, 15)"
      ]
     },
     "execution_count": 3,
     "metadata": {},
     "output_type": "execute_result"
    }
   ],
   "source": [
    "postalCodeWithLocation.drop(postalCodeWithLocation.loc[postalCodeWithLocation['regionname']!='Bangalore HQ'].index, inplace=True)\n",
    "postalCodeWithLocation.shape"
   ]
  },
  {
   "cell_type": "code",
   "execution_count": 4,
   "metadata": {},
   "outputs": [
    {
     "data": {
      "text/plain": [
       "(58, 15)"
      ]
     },
     "execution_count": 4,
     "metadata": {},
     "output_type": "execute_result"
    }
   ],
   "source": [
    "postalCodeWithLocation.dropna(subset = ['longitude','latitude'], inplace=True)\n",
    "postalCodeWithLocation.shape"
   ]
  },
  {
   "cell_type": "code",
   "execution_count": 5,
   "metadata": {},
   "outputs": [
    {
     "name": "stderr",
     "output_type": "stream",
     "text": [
      "C:\\Users\\tmadan\\AppData\\Local\\Continuum\\anaconda3\\lib\\site-packages\\ipykernel_launcher.py:5: SettingWithCopyWarning: \n",
      "A value is trying to be set on a copy of a slice from a DataFrame\n",
      "\n",
      "See the caveats in the documentation: http://pandas.pydata.org/pandas-docs/stable/indexing.html#indexing-view-versus-copy\n",
      "  \"\"\"\n"
     ]
    },
    {
     "data": {
      "text/plain": [
       "(43, 4)"
      ]
     },
     "execution_count": 5,
     "metadata": {},
     "output_type": "execute_result"
    }
   ],
   "source": [
    "cleanPOandLL=postalCodeWithLocation[['officename','pincode','longitude','latitude']]\n",
    "cleanPOandLL.shape\n",
    "\n",
    "# drop duplicates\n",
    "cleanPOandLL.drop_duplicates(subset='pincode', keep=\"first\",inplace=True)\n",
    "cleanPOandLL.shape\n"
   ]
  },
  {
   "cell_type": "markdown",
   "metadata": {},
   "source": [
    "##### Retrieve venues using FourSquare API"
   ]
  },
  {
   "cell_type": "code",
   "execution_count": 6,
   "metadata": {},
   "outputs": [],
   "source": [
    "def getNearbyVenues(names, latitudes, longitudes, radius=50,LIMIT = 100 ):\n",
    "    \n",
    "    venues_list=[]\n",
    "    for name, lat, lng in zip(names, latitudes, longitudes):\n",
    "        print(name)\n",
    "            \n",
    "        # create the API request URL\n",
    "        url = 'https://api.foursquare.com/v2/venues/search?&intent=browse&client_id={}&client_secret={}&v={}&ll={},{}&radius={}&limit={}'.format(\n",
    "            CLIENT_ID, \n",
    "            CLIENT_SECRET, \n",
    "            VERSION, \n",
    "            lat, \n",
    "            lng, \n",
    "            radius, \n",
    "            LIMIT)\n",
    "            \n",
    "        # make the GET request\n",
    "        results = requests.get(url).json()[\"response\"]['venues']\n",
    "        \n",
    "        # return only relevant information for each nearby venue\n",
    "        venues_list.append([(\n",
    "            name, \n",
    "            lat, \n",
    "            lng, \n",
    "            v['id'],\n",
    "            v['name'], \n",
    "            v['location']['lat'], \n",
    "            v['location']['lng'],  \n",
    "            v['categories'][0]['name'] if len(v['categories']) else '',\n",
    "            v['categories'][0]['icon']['prefix'] if len(v['categories']) else '',\n",
    "        ) for v in results])\n",
    "\n",
    "    nearby_venues = pd.DataFrame([item for venue_list in venues_list for item in venue_list])\n",
    "    nearby_venues.columns = ['Neighbourhood', \n",
    "                  'Neighbourhood Latitude', \n",
    "                  'Neighbourhood Longitude', \n",
    "                   'Venue ID',          \n",
    "                  'Venue', \n",
    "                  'Venue Latitude', \n",
    "                  'Venue Longitude', \n",
    "                  'Venue Category',\n",
    "                  'Venue Icon' ]\n",
    "    \n",
    "    return(nearby_venues)"
   ]
  },
  {
   "cell_type": "code",
   "execution_count": 7,
   "metadata": {},
   "outputs": [
    {
     "name": "stdout",
     "output_type": "stream",
     "text": [
      "560045\n",
      "560103\n",
      "560071\n",
      "560077\n",
      "560005\n",
      "560065\n",
      "560008\n",
      "560001\n",
      "560075\n",
      "560037\n",
      "560017\n",
      "560080\n",
      "560092\n",
      "560064\n",
      "560050\n",
      "560070\n",
      "560076\n",
      "560004\n",
      "560068\n",
      "560099\n",
      "560035\n",
      "560081\n",
      "560029\n",
      "560100\n",
      "560083\n",
      "560102\n",
      "560078\n",
      "560041\n",
      "560011\n",
      "560095\n",
      "560034\n",
      "560021\n",
      "560014\n",
      "560013\n",
      "560086\n",
      "560003\n",
      "560055\n",
      "560054\n",
      "560010\n",
      "560097\n",
      "560022\n",
      "562160\n",
      "562159\n"
     ]
    }
   ],
   "source": [
    "venuesFromFoursquare = getNearbyVenues(names=cleanPOandLL['pincode'],\n",
    "                                   latitudes=cleanPOandLL['latitude'],\n",
    "                                   longitudes=cleanPOandLL['longitude']  )"
   ]
  },
  {
   "cell_type": "code",
   "execution_count": 8,
   "metadata": {},
   "outputs": [
    {
     "data": {
      "text/plain": [
       "(4058, 9)"
      ]
     },
     "execution_count": 8,
     "metadata": {},
     "output_type": "execute_result"
    }
   ],
   "source": [
    "#filter where Category not defined\n",
    "\n",
    "filter = venuesFromFoursquare[\"Venue Category\"] != \"\"\n",
    "venuesFromFoursquareValid = venuesFromFoursquare[filter]\n",
    "venuesFromFoursquareValid.shape"
   ]
  },
  {
   "cell_type": "code",
   "execution_count": 9,
   "metadata": {},
   "outputs": [
    {
     "data": {
      "text/plain": [
       "(1062, 9)"
      ]
     },
     "execution_count": 9,
     "metadata": {},
     "output_type": "execute_result"
    }
   ],
   "source": [
    "#Filter only food related Categories\n",
    "\n",
    "venuesFromFoursquareValidFood=venuesFromFoursquareValid[venuesFromFoursquareValid['Venue Icon'].str.contains(\"food\")]\n",
    "venuesFromFoursquareValidFood.shape"
   ]
  },
  {
   "cell_type": "markdown",
   "metadata": {},
   "source": [
    "##### Identify Top 9 Food Categories to describe Postal Code"
   ]
  },
  {
   "cell_type": "code",
   "execution_count": 10,
   "metadata": {},
   "outputs": [
    {
     "data": {
      "text/plain": [
       "<matplotlib.axes._subplots.AxesSubplot at 0x22b11dab7f0>"
      ]
     },
     "execution_count": 10,
     "metadata": {},
     "output_type": "execute_result"
    },
    {
     "data": {
      "image/png": "[encoded data removed]",
      "text/plain": [
       "<Figure size 1440x720 with 1 Axes>"
      ]
     },
     "metadata": {
      "needs_background": "light"
     },
     "output_type": "display_data"
    }
   ],
   "source": [
    "venuesFromFoursquareValidFood.groupby([\"Venue Category\"]).size().plot.bar(figsize=(20,10))"
   ]
  },
  {
   "cell_type": "code",
   "execution_count": 13,
   "metadata": {},
   "outputs": [],
   "source": [
    "#Categories with occurence across all neighbourhoods\n",
    "\n",
    "validCategories = venuesFromFoursquareValidFood.groupby([\"Venue Category\"]).size().reset_index(name='Counts')"
   ]
  },
  {
   "cell_type": "code",
   "execution_count": 15,
   "metadata": {},
   "outputs": [
    {
     "data": {
      "text/html": [
       "<div>\n",
       "<style scoped>\n",
       "    .dataframe tbody tr th:only-of-type {\n",
       "        vertical-align: middle;\n",
       "    }\n",
       "\n",
       "    .dataframe tbody tr th {\n",
       "        vertical-align: top;\n",
       "    }\n",
       "\n",
       "    .dataframe thead th {\n",
       "        text-align: right;\n",
       "    }\n",
       "</style>\n",
       "<table border=\"1\" class=\"dataframe\">\n",
       "  <thead>\n",
       "    <tr style=\"text-align: right;\">\n",
       "      <th></th>\n",
       "      <th>Venue Category</th>\n",
       "      <th>Counts</th>\n",
       "    </tr>\n",
       "  </thead>\n",
       "  <tbody>\n",
       "    <tr>\n",
       "      <th>54</th>\n",
       "      <td>Indian Restaurant</td>\n",
       "      <td>279</td>\n",
       "    </tr>\n",
       "    <tr>\n",
       "      <th>5</th>\n",
       "      <td>Bakery</td>\n",
       "      <td>73</td>\n",
       "    </tr>\n",
       "    <tr>\n",
       "      <th>79</th>\n",
       "      <td>Snack Place</td>\n",
       "      <td>63</td>\n",
       "    </tr>\n",
       "    <tr>\n",
       "      <th>34</th>\n",
       "      <td>Fast Food Restaurant</td>\n",
       "      <td>51</td>\n",
       "    </tr>\n",
       "    <tr>\n",
       "      <th>15</th>\n",
       "      <td>Café</td>\n",
       "      <td>50</td>\n",
       "    </tr>\n",
       "    <tr>\n",
       "      <th>20</th>\n",
       "      <td>Coffee Shop</td>\n",
       "      <td>43</td>\n",
       "    </tr>\n",
       "    <tr>\n",
       "      <th>57</th>\n",
       "      <td>Juice Bar</td>\n",
       "      <td>40</td>\n",
       "    </tr>\n",
       "    <tr>\n",
       "      <th>53</th>\n",
       "      <td>Ice Cream Shop</td>\n",
       "      <td>32</td>\n",
       "    </tr>\n",
       "    <tr>\n",
       "      <th>75</th>\n",
       "      <td>Restaurant</td>\n",
       "      <td>32</td>\n",
       "    </tr>\n",
       "  </tbody>\n",
       "</table>\n",
       "</div>"
      ],
      "text/plain": [
       "          Venue Category  Counts\n",
       "54     Indian Restaurant     279\n",
       "5                 Bakery      73\n",
       "79           Snack Place      63\n",
       "34  Fast Food Restaurant      51\n",
       "15                  Café      50\n",
       "20           Coffee Shop      43\n",
       "57             Juice Bar      40\n",
       "53        Ice Cream Shop      32\n",
       "75            Restaurant      32"
      ]
     },
     "execution_count": 15,
     "metadata": {},
     "output_type": "execute_result"
    }
   ],
   "source": [
    "TopValidCategories=validCategories.sort_values(by=['Counts'], ascending=False)[0:9]\n",
    "TopValidCategories"
   ]
  },
  {
   "cell_type": "code",
   "execution_count": 18,
   "metadata": {},
   "outputs": [
    {
     "name": "stdout",
     "output_type": "stream",
     "text": [
      "(663, 9)\n"
     ]
    },
    {
     "data": {
      "text/html": [
       "<div>\n",
       "<style scoped>\n",
       "    .dataframe tbody tr th:only-of-type {\n",
       "        vertical-align: middle;\n",
       "    }\n",
       "\n",
       "    .dataframe tbody tr th {\n",
       "        vertical-align: top;\n",
       "    }\n",
       "\n",
       "    .dataframe thead th {\n",
       "        text-align: right;\n",
       "    }\n",
       "</style>\n",
       "<table border=\"1\" class=\"dataframe\">\n",
       "  <thead>\n",
       "    <tr style=\"text-align: right;\">\n",
       "      <th></th>\n",
       "      <th>Neighbourhood</th>\n",
       "      <th>Neighbourhood Latitude</th>\n",
       "      <th>Neighbourhood Longitude</th>\n",
       "      <th>Venue ID</th>\n",
       "      <th>Venue</th>\n",
       "      <th>Venue Latitude</th>\n",
       "      <th>Venue Longitude</th>\n",
       "      <th>Venue Category</th>\n",
       "      <th>Venue Icon</th>\n",
       "    </tr>\n",
       "  </thead>\n",
       "  <tbody>\n",
       "    <tr>\n",
       "      <th>4</th>\n",
       "      <td>560045</td>\n",
       "      <td>13.0291</td>\n",
       "      <td>77.6206</td>\n",
       "      <td>512ce3bfe4b053d1bd6b6263</td>\n",
       "      <td>Kanaka Sagar Restaurant</td>\n",
       "      <td>13.025799</td>\n",
       "      <td>77.629169</td>\n",
       "      <td>Indian Restaurant</td>\n",
       "      <td>https://ss3.4sqi.net/img/categories_v2/food/in...</td>\n",
       "    </tr>\n",
       "    <tr>\n",
       "      <th>9</th>\n",
       "      <td>560045</td>\n",
       "      <td>13.0291</td>\n",
       "      <td>77.6206</td>\n",
       "      <td>4e4cf1e6d4c083e9648ffc57</td>\n",
       "      <td>New Krishna Sagar</td>\n",
       "      <td>13.026125</td>\n",
       "      <td>77.622722</td>\n",
       "      <td>Indian Restaurant</td>\n",
       "      <td>https://ss3.4sqi.net/img/categories_v2/food/in...</td>\n",
       "    </tr>\n",
       "    <tr>\n",
       "      <th>17</th>\n",
       "      <td>560045</td>\n",
       "      <td>13.0291</td>\n",
       "      <td>77.6206</td>\n",
       "      <td>50595659e4b04e53f64976c3</td>\n",
       "      <td>Tea Shop</td>\n",
       "      <td>13.031503</td>\n",
       "      <td>77.620736</td>\n",
       "      <td>Coffee Shop</td>\n",
       "      <td>https://ss3.4sqi.net/img/categories_v2/food/co...</td>\n",
       "    </tr>\n",
       "    <tr>\n",
       "      <th>20</th>\n",
       "      <td>560045</td>\n",
       "      <td>13.0291</td>\n",
       "      <td>77.6206</td>\n",
       "      <td>4efee9499911b33a100c20a5</td>\n",
       "      <td>Kamal da Dhaba</td>\n",
       "      <td>13.027063</td>\n",
       "      <td>77.622548</td>\n",
       "      <td>Indian Restaurant</td>\n",
       "      <td>https://ss3.4sqi.net/img/categories_v2/food/in...</td>\n",
       "    </tr>\n",
       "    <tr>\n",
       "      <th>22</th>\n",
       "      <td>560045</td>\n",
       "      <td>13.0291</td>\n",
       "      <td>77.6206</td>\n",
       "      <td>5324873c498e7393c92cb9c9</td>\n",
       "      <td>nandhini deluxe, RT nagar</td>\n",
       "      <td>13.023767</td>\n",
       "      <td>77.614201</td>\n",
       "      <td>Indian Restaurant</td>\n",
       "      <td>https://ss3.4sqi.net/img/categories_v2/food/in...</td>\n",
       "    </tr>\n",
       "  </tbody>\n",
       "</table>\n",
       "</div>"
      ],
      "text/plain": [
       "    Neighbourhood  Neighbourhood Latitude  Neighbourhood Longitude  \\\n",
       "4          560045                 13.0291                  77.6206   \n",
       "9          560045                 13.0291                  77.6206   \n",
       "17         560045                 13.0291                  77.6206   \n",
       "20         560045                 13.0291                  77.6206   \n",
       "22         560045                 13.0291                  77.6206   \n",
       "\n",
       "                    Venue ID                      Venue  Venue Latitude  \\\n",
       "4   512ce3bfe4b053d1bd6b6263    Kanaka Sagar Restaurant       13.025799   \n",
       "9   4e4cf1e6d4c083e9648ffc57          New Krishna Sagar       13.026125   \n",
       "17  50595659e4b04e53f64976c3                   Tea Shop       13.031503   \n",
       "20  4efee9499911b33a100c20a5             Kamal da Dhaba       13.027063   \n",
       "22  5324873c498e7393c92cb9c9  nandhini deluxe, RT nagar       13.023767   \n",
       "\n",
       "    Venue Longitude     Venue Category  \\\n",
       "4         77.629169  Indian Restaurant   \n",
       "9         77.622722  Indian Restaurant   \n",
       "17        77.620736        Coffee Shop   \n",
       "20        77.622548  Indian Restaurant   \n",
       "22        77.614201  Indian Restaurant   \n",
       "\n",
       "                                           Venue Icon  \n",
       "4   https://ss3.4sqi.net/img/categories_v2/food/in...  \n",
       "9   https://ss3.4sqi.net/img/categories_v2/food/in...  \n",
       "17  https://ss3.4sqi.net/img/categories_v2/food/co...  \n",
       "20  https://ss3.4sqi.net/img/categories_v2/food/in...  \n",
       "22  https://ss3.4sqi.net/img/categories_v2/food/in...  "
      ]
     },
     "execution_count": 18,
     "metadata": {},
     "output_type": "execute_result"
    }
   ],
   "source": [
    "#Filter Venues which belong to Top valid categories\n",
    "\n",
    "filterList=TopValidCategories['Venue Category']\n",
    "TopVenuesFromFoursquareValidFood=venuesFromFoursquareValidFood[venuesFromFoursquareValidFood['Venue Category'].isin(filterList)] \n",
    "print(TopVenuesFromFoursquareValidFood.shape)\n",
    "TopVenuesFromFoursquareValidFood.head()"
   ]
  },
  {
   "cell_type": "code",
   "execution_count": 20,
   "metadata": {},
   "outputs": [
    {
     "name": "stderr",
     "output_type": "stream",
     "text": [
      "C:\\Users\\tmadan\\AppData\\Local\\Continuum\\anaconda3\\lib\\site-packages\\pandas\\core\\frame.py:3940: SettingWithCopyWarning: \n",
      "A value is trying to be set on a copy of a slice from a DataFrame\n",
      "\n",
      "See the caveats in the documentation: http://pandas.pydata.org/pandas-docs/stable/indexing.html#indexing-view-versus-copy\n",
      "  errors=errors)\n"
     ]
    },
    {
     "data": {
      "text/plain": [
       "(663, 8)"
      ]
     },
     "execution_count": 20,
     "metadata": {},
     "output_type": "execute_result"
    }
   ],
   "source": [
    "# drop venue icon column\n",
    "\n",
    "TopVenuesFromFoursquareValidFood.drop(['Venue Icon'],axis=1, inplace=True)\n",
    "TopVenuesFromFoursquareValidFood.shape"
   ]
  },
  {
   "cell_type": "code",
   "execution_count": 80,
   "metadata": {},
   "outputs": [
    {
     "data": {
      "text/html": [
       "<div>\n",
       "<style scoped>\n",
       "    .dataframe tbody tr th:only-of-type {\n",
       "        vertical-align: middle;\n",
       "    }\n",
       "\n",
       "    .dataframe tbody tr th {\n",
       "        vertical-align: top;\n",
       "    }\n",
       "\n",
       "    .dataframe thead th {\n",
       "        text-align: right;\n",
       "    }\n",
       "</style>\n",
       "<table border=\"1\" class=\"dataframe\">\n",
       "  <thead>\n",
       "    <tr style=\"text-align: right;\">\n",
       "      <th></th>\n",
       "      <th>Neighbourhood</th>\n",
       "      <th>Bakery</th>\n",
       "      <th>Café</th>\n",
       "      <th>Coffee Shop</th>\n",
       "      <th>Fast Food Restaurant</th>\n",
       "      <th>Ice Cream Shop</th>\n",
       "      <th>Indian Restaurant</th>\n",
       "      <th>Juice Bar</th>\n",
       "      <th>Restaurant</th>\n",
       "      <th>Snack Place</th>\n",
       "    </tr>\n",
       "  </thead>\n",
       "  <tbody>\n",
       "    <tr>\n",
       "      <th>4</th>\n",
       "      <td>560045</td>\n",
       "      <td>0</td>\n",
       "      <td>0</td>\n",
       "      <td>0</td>\n",
       "      <td>0</td>\n",
       "      <td>0</td>\n",
       "      <td>1</td>\n",
       "      <td>0</td>\n",
       "      <td>0</td>\n",
       "      <td>0</td>\n",
       "    </tr>\n",
       "    <tr>\n",
       "      <th>9</th>\n",
       "      <td>560045</td>\n",
       "      <td>0</td>\n",
       "      <td>0</td>\n",
       "      <td>0</td>\n",
       "      <td>0</td>\n",
       "      <td>0</td>\n",
       "      <td>1</td>\n",
       "      <td>0</td>\n",
       "      <td>0</td>\n",
       "      <td>0</td>\n",
       "    </tr>\n",
       "    <tr>\n",
       "      <th>17</th>\n",
       "      <td>560045</td>\n",
       "      <td>0</td>\n",
       "      <td>0</td>\n",
       "      <td>1</td>\n",
       "      <td>0</td>\n",
       "      <td>0</td>\n",
       "      <td>0</td>\n",
       "      <td>0</td>\n",
       "      <td>0</td>\n",
       "      <td>0</td>\n",
       "    </tr>\n",
       "    <tr>\n",
       "      <th>20</th>\n",
       "      <td>560045</td>\n",
       "      <td>0</td>\n",
       "      <td>0</td>\n",
       "      <td>0</td>\n",
       "      <td>0</td>\n",
       "      <td>0</td>\n",
       "      <td>1</td>\n",
       "      <td>0</td>\n",
       "      <td>0</td>\n",
       "      <td>0</td>\n",
       "    </tr>\n",
       "    <tr>\n",
       "      <th>22</th>\n",
       "      <td>560045</td>\n",
       "      <td>0</td>\n",
       "      <td>0</td>\n",
       "      <td>0</td>\n",
       "      <td>0</td>\n",
       "      <td>0</td>\n",
       "      <td>1</td>\n",
       "      <td>0</td>\n",
       "      <td>0</td>\n",
       "      <td>0</td>\n",
       "    </tr>\n",
       "  </tbody>\n",
       "</table>\n",
       "</div>"
      ],
      "text/plain": [
       "    Neighbourhood  Bakery  Café  Coffee Shop  Fast Food Restaurant  \\\n",
       "4          560045       0     0            0                     0   \n",
       "9          560045       0     0            0                     0   \n",
       "17         560045       0     0            1                     0   \n",
       "20         560045       0     0            0                     0   \n",
       "22         560045       0     0            0                     0   \n",
       "\n",
       "    Ice Cream Shop  Indian Restaurant  Juice Bar  Restaurant  Snack Place  \n",
       "4                0                  1          0           0            0  \n",
       "9                0                  1          0           0            0  \n",
       "17               0                  0          0           0            0  \n",
       "20               0                  1          0           0            0  \n",
       "22               0                  1          0           0            0  "
      ]
     },
     "execution_count": 80,
     "metadata": {},
     "output_type": "execute_result"
    }
   ],
   "source": [
    "# Create dummies for Venue Category along with Neighbourhood\n",
    "\n",
    "TopVenuesFromFoursquareValidFood.head()\n",
    "DFWithVenue = TopVenuesFromFoursquareValidFood[['Neighbourhood','Venue Category']]\n",
    "TopVenuesFromFoursquareValidFood_withDummies = pd.get_dummies(DFWithVenue[['Venue Category']], prefix=\"\", prefix_sep=\"\")\n",
    "TopVenuesFromFoursquareValidFood_withDummies.insert(0,\"Neighbourhood\",TopVenuesFromFoursquareValidFood[['Neighbourhood']])\n",
    "TopVenuesFromFoursquareValidFood_withDummies.head()"
   ]
  },
  {
   "cell_type": "code",
   "execution_count": 82,
   "metadata": {},
   "outputs": [],
   "source": [
    "DFFeatures = TopVenuesFromFoursquareValidFood_withDummies.groupby('Neighbourhood').mean().reset_index()"
   ]
  },
  {
   "cell_type": "code",
   "execution_count": 83,
   "metadata": {},
   "outputs": [
    {
     "data": {
      "text/html": [
       "<div>\n",
       "<style scoped>\n",
       "    .dataframe tbody tr th:only-of-type {\n",
       "        vertical-align: middle;\n",
       "    }\n",
       "\n",
       "    .dataframe tbody tr th {\n",
       "        vertical-align: top;\n",
       "    }\n",
       "\n",
       "    .dataframe thead th {\n",
       "        text-align: right;\n",
       "    }\n",
       "</style>\n",
       "<table border=\"1\" class=\"dataframe\">\n",
       "  <thead>\n",
       "    <tr style=\"text-align: right;\">\n",
       "      <th></th>\n",
       "      <th>Neighbourhood</th>\n",
       "      <th>Bakery</th>\n",
       "      <th>Café</th>\n",
       "      <th>Coffee Shop</th>\n",
       "      <th>Fast Food Restaurant</th>\n",
       "      <th>Ice Cream Shop</th>\n",
       "      <th>Indian Restaurant</th>\n",
       "      <th>Juice Bar</th>\n",
       "      <th>Restaurant</th>\n",
       "      <th>Snack Place</th>\n",
       "    </tr>\n",
       "  </thead>\n",
       "  <tbody>\n",
       "    <tr>\n",
       "      <th>0</th>\n",
       "      <td>560001</td>\n",
       "      <td>0.000000</td>\n",
       "      <td>0.166667</td>\n",
       "      <td>0.000000</td>\n",
       "      <td>0.333333</td>\n",
       "      <td>0.000000</td>\n",
       "      <td>0.166667</td>\n",
       "      <td>0.000000</td>\n",
       "      <td>0.166667</td>\n",
       "      <td>0.166667</td>\n",
       "    </tr>\n",
       "    <tr>\n",
       "      <th>1</th>\n",
       "      <td>560003</td>\n",
       "      <td>0.080000</td>\n",
       "      <td>0.080000</td>\n",
       "      <td>0.200000</td>\n",
       "      <td>0.000000</td>\n",
       "      <td>0.040000</td>\n",
       "      <td>0.280000</td>\n",
       "      <td>0.120000</td>\n",
       "      <td>0.080000</td>\n",
       "      <td>0.120000</td>\n",
       "    </tr>\n",
       "    <tr>\n",
       "      <th>2</th>\n",
       "      <td>560004</td>\n",
       "      <td>0.000000</td>\n",
       "      <td>0.090909</td>\n",
       "      <td>0.000000</td>\n",
       "      <td>0.272727</td>\n",
       "      <td>0.000000</td>\n",
       "      <td>0.545455</td>\n",
       "      <td>0.000000</td>\n",
       "      <td>0.090909</td>\n",
       "      <td>0.000000</td>\n",
       "    </tr>\n",
       "    <tr>\n",
       "      <th>3</th>\n",
       "      <td>560005</td>\n",
       "      <td>0.120000</td>\n",
       "      <td>0.040000</td>\n",
       "      <td>0.000000</td>\n",
       "      <td>0.080000</td>\n",
       "      <td>0.040000</td>\n",
       "      <td>0.480000</td>\n",
       "      <td>0.240000</td>\n",
       "      <td>0.000000</td>\n",
       "      <td>0.000000</td>\n",
       "    </tr>\n",
       "    <tr>\n",
       "      <th>4</th>\n",
       "      <td>560008</td>\n",
       "      <td>0.083333</td>\n",
       "      <td>0.083333</td>\n",
       "      <td>0.166667</td>\n",
       "      <td>0.000000</td>\n",
       "      <td>0.083333</td>\n",
       "      <td>0.250000</td>\n",
       "      <td>0.083333</td>\n",
       "      <td>0.250000</td>\n",
       "      <td>0.000000</td>\n",
       "    </tr>\n",
       "  </tbody>\n",
       "</table>\n",
       "</div>"
      ],
      "text/plain": [
       "   Neighbourhood    Bakery      Café  Coffee Shop  Fast Food Restaurant  \\\n",
       "0         560001  0.000000  0.166667     0.000000              0.333333   \n",
       "1         560003  0.080000  0.080000     0.200000              0.000000   \n",
       "2         560004  0.000000  0.090909     0.000000              0.272727   \n",
       "3         560005  0.120000  0.040000     0.000000              0.080000   \n",
       "4         560008  0.083333  0.083333     0.166667              0.000000   \n",
       "\n",
       "   Ice Cream Shop  Indian Restaurant  Juice Bar  Restaurant  Snack Place  \n",
       "0        0.000000           0.166667   0.000000    0.166667     0.166667  \n",
       "1        0.040000           0.280000   0.120000    0.080000     0.120000  \n",
       "2        0.000000           0.545455   0.000000    0.090909     0.000000  \n",
       "3        0.040000           0.480000   0.240000    0.000000     0.000000  \n",
       "4        0.083333           0.250000   0.083333    0.250000     0.000000  "
      ]
     },
     "execution_count": 83,
     "metadata": {},
     "output_type": "execute_result"
    }
   ],
   "source": [
    "DFFeatures.head()"
   ]
  },
  {
   "cell_type": "markdown",
   "metadata": {},
   "source": [
    "##### Perform Clustering\n"
   ]
  },
  {
   "cell_type": "code",
   "execution_count": 123,
   "metadata": {},
   "outputs": [
    {
     "data": {
      "text/plain": [
       "array([0, 1, 3, 2, 1, 1, 3, 1, 3, 0])"
      ]
     },
     "execution_count": 123,
     "metadata": {},
     "output_type": "execute_result"
    }
   ],
   "source": [
    "from sklearn.cluster import KMeans\n",
    "# set number of clusters\n",
    "kclusters = 4\n",
    "\n",
    "DFFeatures_clean = DFFeatures.drop('Neighbourhood', 1)\n",
    "\n",
    "# run k-means clustering\n",
    "kmeans = KMeans(n_clusters=kclusters, random_state=0).fit(DFFeatures_clean)\n",
    "\n",
    "# check cluster labels generated for each row in the dataframe\n",
    "kmeans.labels_[0:10] \n"
   ]
  },
  {
   "cell_type": "code",
   "execution_count": 124,
   "metadata": {},
   "outputs": [],
   "source": [
    "DFFeatures.drop(['Cluster Labels'],axis=1, inplace=True)\n",
    "DFFeatures.insert(0, 'Cluster Labels', kmeans.labels_)"
   ]
  },
  {
   "cell_type": "code",
   "execution_count": 125,
   "metadata": {},
   "outputs": [
    {
     "data": {
      "text/html": [
       "<div>\n",
       "<style scoped>\n",
       "    .dataframe tbody tr th:only-of-type {\n",
       "        vertical-align: middle;\n",
       "    }\n",
       "\n",
       "    .dataframe tbody tr th {\n",
       "        vertical-align: top;\n",
       "    }\n",
       "\n",
       "    .dataframe thead th {\n",
       "        text-align: right;\n",
       "    }\n",
       "</style>\n",
       "<table border=\"1\" class=\"dataframe\">\n",
       "  <thead>\n",
       "    <tr style=\"text-align: right;\">\n",
       "      <th></th>\n",
       "      <th>Cluster Labels</th>\n",
       "      <th>Neighbourhood</th>\n",
       "      <th>Bakery</th>\n",
       "      <th>Café</th>\n",
       "      <th>Coffee Shop</th>\n",
       "      <th>Fast Food Restaurant</th>\n",
       "      <th>Ice Cream Shop</th>\n",
       "      <th>Indian Restaurant</th>\n",
       "      <th>Juice Bar</th>\n",
       "      <th>Restaurant</th>\n",
       "      <th>Snack Place</th>\n",
       "    </tr>\n",
       "  </thead>\n",
       "  <tbody>\n",
       "    <tr>\n",
       "      <th>0</th>\n",
       "      <td>0</td>\n",
       "      <td>560001</td>\n",
       "      <td>0.000000</td>\n",
       "      <td>0.166667</td>\n",
       "      <td>0.000000</td>\n",
       "      <td>0.333333</td>\n",
       "      <td>0.000000</td>\n",
       "      <td>0.166667</td>\n",
       "      <td>0.000000</td>\n",
       "      <td>0.166667</td>\n",
       "      <td>0.166667</td>\n",
       "    </tr>\n",
       "    <tr>\n",
       "      <th>1</th>\n",
       "      <td>1</td>\n",
       "      <td>560003</td>\n",
       "      <td>0.080000</td>\n",
       "      <td>0.080000</td>\n",
       "      <td>0.200000</td>\n",
       "      <td>0.000000</td>\n",
       "      <td>0.040000</td>\n",
       "      <td>0.280000</td>\n",
       "      <td>0.120000</td>\n",
       "      <td>0.080000</td>\n",
       "      <td>0.120000</td>\n",
       "    </tr>\n",
       "    <tr>\n",
       "      <th>2</th>\n",
       "      <td>3</td>\n",
       "      <td>560004</td>\n",
       "      <td>0.000000</td>\n",
       "      <td>0.090909</td>\n",
       "      <td>0.000000</td>\n",
       "      <td>0.272727</td>\n",
       "      <td>0.000000</td>\n",
       "      <td>0.545455</td>\n",
       "      <td>0.000000</td>\n",
       "      <td>0.090909</td>\n",
       "      <td>0.000000</td>\n",
       "    </tr>\n",
       "    <tr>\n",
       "      <th>3</th>\n",
       "      <td>2</td>\n",
       "      <td>560005</td>\n",
       "      <td>0.120000</td>\n",
       "      <td>0.040000</td>\n",
       "      <td>0.000000</td>\n",
       "      <td>0.080000</td>\n",
       "      <td>0.040000</td>\n",
       "      <td>0.480000</td>\n",
       "      <td>0.240000</td>\n",
       "      <td>0.000000</td>\n",
       "      <td>0.000000</td>\n",
       "    </tr>\n",
       "    <tr>\n",
       "      <th>4</th>\n",
       "      <td>1</td>\n",
       "      <td>560008</td>\n",
       "      <td>0.083333</td>\n",
       "      <td>0.083333</td>\n",
       "      <td>0.166667</td>\n",
       "      <td>0.000000</td>\n",
       "      <td>0.083333</td>\n",
       "      <td>0.250000</td>\n",
       "      <td>0.083333</td>\n",
       "      <td>0.250000</td>\n",
       "      <td>0.000000</td>\n",
       "    </tr>\n",
       "  </tbody>\n",
       "</table>\n",
       "</div>"
      ],
      "text/plain": [
       "   Cluster Labels  Neighbourhood    Bakery      Café  Coffee Shop  \\\n",
       "0               0         560001  0.000000  0.166667     0.000000   \n",
       "1               1         560003  0.080000  0.080000     0.200000   \n",
       "2               3         560004  0.000000  0.090909     0.000000   \n",
       "3               2         560005  0.120000  0.040000     0.000000   \n",
       "4               1         560008  0.083333  0.083333     0.166667   \n",
       "\n",
       "   Fast Food Restaurant  Ice Cream Shop  Indian Restaurant  Juice Bar  \\\n",
       "0              0.333333        0.000000           0.166667   0.000000   \n",
       "1              0.000000        0.040000           0.280000   0.120000   \n",
       "2              0.272727        0.000000           0.545455   0.000000   \n",
       "3              0.080000        0.040000           0.480000   0.240000   \n",
       "4              0.000000        0.083333           0.250000   0.083333   \n",
       "\n",
       "   Restaurant  Snack Place  \n",
       "0    0.166667     0.166667  \n",
       "1    0.080000     0.120000  \n",
       "2    0.090909     0.000000  \n",
       "3    0.000000     0.000000  \n",
       "4    0.250000     0.000000  "
      ]
     },
     "execution_count": 125,
     "metadata": {},
     "output_type": "execute_result"
    }
   ],
   "source": [
    "DFFeatures.head()"
   ]
  },
  {
   "cell_type": "code",
   "execution_count": 96,
   "metadata": {},
   "outputs": [
    {
     "name": "stderr",
     "output_type": "stream",
     "text": [
      "C:\\Users\\tmadan\\AppData\\Local\\Continuum\\anaconda3\\lib\\site-packages\\pandas\\core\\frame.py:4025: SettingWithCopyWarning: \n",
      "A value is trying to be set on a copy of a slice from a DataFrame\n",
      "\n",
      "See the caveats in the documentation: http://pandas.pydata.org/pandas-docs/stable/indexing.html#indexing-view-versus-copy\n",
      "  return super(DataFrame, self).rename(**kwargs)\n"
     ]
    },
    {
     "data": {
      "text/html": [
       "<div>\n",
       "<style scoped>\n",
       "    .dataframe tbody tr th:only-of-type {\n",
       "        vertical-align: middle;\n",
       "    }\n",
       "\n",
       "    .dataframe tbody tr th {\n",
       "        vertical-align: top;\n",
       "    }\n",
       "\n",
       "    .dataframe thead th {\n",
       "        text-align: right;\n",
       "    }\n",
       "</style>\n",
       "<table border=\"1\" class=\"dataframe\">\n",
       "  <thead>\n",
       "    <tr style=\"text-align: right;\">\n",
       "      <th></th>\n",
       "      <th>officename</th>\n",
       "      <th>Neighbourhood</th>\n",
       "      <th>longitude</th>\n",
       "      <th>latitude</th>\n",
       "    </tr>\n",
       "  </thead>\n",
       "  <tbody>\n",
       "    <tr>\n",
       "      <th>52180</th>\n",
       "      <td>Arabic College S.O</td>\n",
       "      <td>560045</td>\n",
       "      <td>77.6206</td>\n",
       "      <td>13.0291</td>\n",
       "    </tr>\n",
       "    <tr>\n",
       "      <th>52187</th>\n",
       "      <td>Bellandur S.O</td>\n",
       "      <td>560103</td>\n",
       "      <td>77.6760</td>\n",
       "      <td>12.9298</td>\n",
       "    </tr>\n",
       "    <tr>\n",
       "      <th>52201</th>\n",
       "      <td>Domlur S.O</td>\n",
       "      <td>560071</td>\n",
       "      <td>77.6359</td>\n",
       "      <td>12.9611</td>\n",
       "    </tr>\n",
       "    <tr>\n",
       "      <th>52204</th>\n",
       "      <td>Dr. Shivarama Karanth Nagar S.O</td>\n",
       "      <td>560077</td>\n",
       "      <td>77.6293</td>\n",
       "      <td>13.0681</td>\n",
       "    </tr>\n",
       "    <tr>\n",
       "      <th>52206</th>\n",
       "      <td>Fraser Town S.O</td>\n",
       "      <td>560005</td>\n",
       "      <td>77.6164</td>\n",
       "      <td>13.0005</td>\n",
       "    </tr>\n",
       "  </tbody>\n",
       "</table>\n",
       "</div>"
      ],
      "text/plain": [
       "                            officename  Neighbourhood  longitude  latitude\n",
       "52180               Arabic College S.O         560045    77.6206   13.0291\n",
       "52187                    Bellandur S.O         560103    77.6760   12.9298\n",
       "52201                       Domlur S.O         560071    77.6359   12.9611\n",
       "52204  Dr. Shivarama Karanth Nagar S.O         560077    77.6293   13.0681\n",
       "52206                  Fraser Town S.O         560005    77.6164   13.0005"
      ]
     },
     "execution_count": 96,
     "metadata": {},
     "output_type": "execute_result"
    }
   ],
   "source": [
    "# Add Latitude and Longitude for Neighbourhood\n",
    "cleanPOandLL.rename(columns={'pincode': \"Neighbourhood\"},inplace=True)\n",
    "cleanPOandLL.head()"
   ]
  },
  {
   "cell_type": "code",
   "execution_count": 126,
   "metadata": {},
   "outputs": [
    {
     "data": {
      "text/html": [
       "<div>\n",
       "<style scoped>\n",
       "    .dataframe tbody tr th:only-of-type {\n",
       "        vertical-align: middle;\n",
       "    }\n",
       "\n",
       "    .dataframe tbody tr th {\n",
       "        vertical-align: top;\n",
       "    }\n",
       "\n",
       "    .dataframe thead th {\n",
       "        text-align: right;\n",
       "    }\n",
       "</style>\n",
       "<table border=\"1\" class=\"dataframe\">\n",
       "  <thead>\n",
       "    <tr style=\"text-align: right;\">\n",
       "      <th></th>\n",
       "      <th>Cluster Labels</th>\n",
       "      <th>Neighbourhood</th>\n",
       "      <th>Bakery</th>\n",
       "      <th>Café</th>\n",
       "      <th>Coffee Shop</th>\n",
       "      <th>Fast Food Restaurant</th>\n",
       "      <th>Ice Cream Shop</th>\n",
       "      <th>Indian Restaurant</th>\n",
       "      <th>Juice Bar</th>\n",
       "      <th>Restaurant</th>\n",
       "      <th>Snack Place</th>\n",
       "      <th>longitude</th>\n",
       "      <th>latitude</th>\n",
       "    </tr>\n",
       "  </thead>\n",
       "  <tbody>\n",
       "    <tr>\n",
       "      <th>0</th>\n",
       "      <td>0</td>\n",
       "      <td>560001</td>\n",
       "      <td>0.000000</td>\n",
       "      <td>0.166667</td>\n",
       "      <td>0.000000</td>\n",
       "      <td>0.333333</td>\n",
       "      <td>0.000000</td>\n",
       "      <td>0.166667</td>\n",
       "      <td>0.000000</td>\n",
       "      <td>0.166667</td>\n",
       "      <td>0.166667</td>\n",
       "      <td>77.5915</td>\n",
       "      <td>12.9773</td>\n",
       "    </tr>\n",
       "    <tr>\n",
       "      <th>1</th>\n",
       "      <td>1</td>\n",
       "      <td>560003</td>\n",
       "      <td>0.080000</td>\n",
       "      <td>0.080000</td>\n",
       "      <td>0.200000</td>\n",
       "      <td>0.000000</td>\n",
       "      <td>0.040000</td>\n",
       "      <td>0.280000</td>\n",
       "      <td>0.120000</td>\n",
       "      <td>0.080000</td>\n",
       "      <td>0.120000</td>\n",
       "      <td>77.5709</td>\n",
       "      <td>13.0002</td>\n",
       "    </tr>\n",
       "    <tr>\n",
       "      <th>2</th>\n",
       "      <td>3</td>\n",
       "      <td>560004</td>\n",
       "      <td>0.000000</td>\n",
       "      <td>0.090909</td>\n",
       "      <td>0.000000</td>\n",
       "      <td>0.272727</td>\n",
       "      <td>0.000000</td>\n",
       "      <td>0.545455</td>\n",
       "      <td>0.000000</td>\n",
       "      <td>0.090909</td>\n",
       "      <td>0.000000</td>\n",
       "      <td>77.5741</td>\n",
       "      <td>12.9446</td>\n",
       "    </tr>\n",
       "    <tr>\n",
       "      <th>3</th>\n",
       "      <td>2</td>\n",
       "      <td>560005</td>\n",
       "      <td>0.120000</td>\n",
       "      <td>0.040000</td>\n",
       "      <td>0.000000</td>\n",
       "      <td>0.080000</td>\n",
       "      <td>0.040000</td>\n",
       "      <td>0.480000</td>\n",
       "      <td>0.240000</td>\n",
       "      <td>0.000000</td>\n",
       "      <td>0.000000</td>\n",
       "      <td>77.6164</td>\n",
       "      <td>13.0005</td>\n",
       "    </tr>\n",
       "    <tr>\n",
       "      <th>4</th>\n",
       "      <td>1</td>\n",
       "      <td>560008</td>\n",
       "      <td>0.083333</td>\n",
       "      <td>0.083333</td>\n",
       "      <td>0.166667</td>\n",
       "      <td>0.000000</td>\n",
       "      <td>0.083333</td>\n",
       "      <td>0.250000</td>\n",
       "      <td>0.083333</td>\n",
       "      <td>0.250000</td>\n",
       "      <td>0.000000</td>\n",
       "      <td>77.6427</td>\n",
       "      <td>12.9686</td>\n",
       "    </tr>\n",
       "  </tbody>\n",
       "</table>\n",
       "</div>"
      ],
      "text/plain": [
       "   Cluster Labels  Neighbourhood    Bakery      Café  Coffee Shop  \\\n",
       "0               0         560001  0.000000  0.166667     0.000000   \n",
       "1               1         560003  0.080000  0.080000     0.200000   \n",
       "2               3         560004  0.000000  0.090909     0.000000   \n",
       "3               2         560005  0.120000  0.040000     0.000000   \n",
       "4               1         560008  0.083333  0.083333     0.166667   \n",
       "\n",
       "   Fast Food Restaurant  Ice Cream Shop  Indian Restaurant  Juice Bar  \\\n",
       "0              0.333333        0.000000           0.166667   0.000000   \n",
       "1              0.000000        0.040000           0.280000   0.120000   \n",
       "2              0.272727        0.000000           0.545455   0.000000   \n",
       "3              0.080000        0.040000           0.480000   0.240000   \n",
       "4              0.000000        0.083333           0.250000   0.083333   \n",
       "\n",
       "   Restaurant  Snack Place  longitude  latitude  \n",
       "0    0.166667     0.166667    77.5915   12.9773  \n",
       "1    0.080000     0.120000    77.5709   13.0002  \n",
       "2    0.090909     0.000000    77.5741   12.9446  \n",
       "3    0.000000     0.000000    77.6164   13.0005  \n",
       "4    0.250000     0.000000    77.6427   12.9686  "
      ]
     },
     "execution_count": 126,
     "metadata": {},
     "output_type": "execute_result"
    }
   ],
   "source": [
    "# merge to add latitude/longitude for each neighborhood\n",
    "DFFeatures_merged = DFFeatures.join(cleanPOandLL.set_index('Neighbourhood'), on='Neighbourhood')\n",
    "DFFeatures_merged.drop(['officename'],axis=1, inplace=True)\n",
    "DFFeatures_merged.head()"
   ]
  },
  {
   "cell_type": "code",
   "execution_count": 127,
   "metadata": {},
   "outputs": [
    {
     "data": {
      "text/html": [
       "<div>\n",
       "<style scoped>\n",
       "    .dataframe tbody tr th:only-of-type {\n",
       "        vertical-align: middle;\n",
       "    }\n",
       "\n",
       "    .dataframe tbody tr th {\n",
       "        vertical-align: top;\n",
       "    }\n",
       "\n",
       "    .dataframe thead th {\n",
       "        text-align: right;\n",
       "    }\n",
       "</style>\n",
       "<table border=\"1\" class=\"dataframe\">\n",
       "  <thead>\n",
       "    <tr style=\"text-align: right;\">\n",
       "      <th></th>\n",
       "      <th>Cluster Labels</th>\n",
       "      <th>Bakery</th>\n",
       "      <th>Café</th>\n",
       "      <th>Coffee Shop</th>\n",
       "      <th>Fast Food Restaurant</th>\n",
       "      <th>Ice Cream Shop</th>\n",
       "      <th>Indian Restaurant</th>\n",
       "      <th>Juice Bar</th>\n",
       "      <th>Restaurant</th>\n",
       "      <th>Snack Place</th>\n",
       "      <th>longitude</th>\n",
       "      <th>latitude</th>\n",
       "    </tr>\n",
       "  </thead>\n",
       "  <tbody>\n",
       "    <tr>\n",
       "      <th>0</th>\n",
       "      <td>0</td>\n",
       "      <td>0.049608</td>\n",
       "      <td>0.144880</td>\n",
       "      <td>0.111492</td>\n",
       "      <td>0.126265</td>\n",
       "      <td>0.145840</td>\n",
       "      <td>0.212771</td>\n",
       "      <td>0.067093</td>\n",
       "      <td>0.071090</td>\n",
       "      <td>0.070962</td>\n",
       "      <td>77.592838</td>\n",
       "      <td>12.956963</td>\n",
       "    </tr>\n",
       "    <tr>\n",
       "      <th>1</th>\n",
       "      <td>1</td>\n",
       "      <td>0.144243</td>\n",
       "      <td>0.037737</td>\n",
       "      <td>0.080491</td>\n",
       "      <td>0.075309</td>\n",
       "      <td>0.035572</td>\n",
       "      <td>0.385675</td>\n",
       "      <td>0.054126</td>\n",
       "      <td>0.040359</td>\n",
       "      <td>0.146488</td>\n",
       "      <td>77.596694</td>\n",
       "      <td>12.988356</td>\n",
       "    </tr>\n",
       "    <tr>\n",
       "      <th>2</th>\n",
       "      <td>2</td>\n",
       "      <td>0.135562</td>\n",
       "      <td>0.095313</td>\n",
       "      <td>0.067125</td>\n",
       "      <td>0.026036</td>\n",
       "      <td>0.008542</td>\n",
       "      <td>0.488150</td>\n",
       "      <td>0.083572</td>\n",
       "      <td>0.031575</td>\n",
       "      <td>0.064124</td>\n",
       "      <td>77.589150</td>\n",
       "      <td>12.929842</td>\n",
       "    </tr>\n",
       "    <tr>\n",
       "      <th>3</th>\n",
       "      <td>3</td>\n",
       "      <td>0.054995</td>\n",
       "      <td>0.072538</td>\n",
       "      <td>0.014784</td>\n",
       "      <td>0.166525</td>\n",
       "      <td>0.023998</td>\n",
       "      <td>0.507927</td>\n",
       "      <td>0.027095</td>\n",
       "      <td>0.073469</td>\n",
       "      <td>0.058670</td>\n",
       "      <td>77.558400</td>\n",
       "      <td>12.914700</td>\n",
       "    </tr>\n",
       "  </tbody>\n",
       "</table>\n",
       "</div>"
      ],
      "text/plain": [
       "   Cluster Labels    Bakery      Café  Coffee Shop  Fast Food Restaurant  \\\n",
       "0               0  0.049608  0.144880     0.111492              0.126265   \n",
       "1               1  0.144243  0.037737     0.080491              0.075309   \n",
       "2               2  0.135562  0.095313     0.067125              0.026036   \n",
       "3               3  0.054995  0.072538     0.014784              0.166525   \n",
       "\n",
       "   Ice Cream Shop  Indian Restaurant  Juice Bar  Restaurant  Snack Place  \\\n",
       "0        0.145840           0.212771   0.067093    0.071090     0.070962   \n",
       "1        0.035572           0.385675   0.054126    0.040359     0.146488   \n",
       "2        0.008542           0.488150   0.083572    0.031575     0.064124   \n",
       "3        0.023998           0.507927   0.027095    0.073469     0.058670   \n",
       "\n",
       "   longitude   latitude  \n",
       "0  77.592838  12.956963  \n",
       "1  77.596694  12.988356  \n",
       "2  77.589150  12.929842  \n",
       "3  77.558400  12.914700  "
      ]
     },
     "execution_count": 127,
     "metadata": {},
     "output_type": "execute_result"
    }
   ],
   "source": [
    "temp = DFFeatures_merged.drop(['Neighbourhood'],axis=1)\n",
    "temp.groupby(['Cluster Labels']).mean().reset_index()"
   ]
  },
  {
   "cell_type": "markdown",
   "metadata": {},
   "source": [
    "##### Map\n"
   ]
  },
  {
   "cell_type": "code",
   "execution_count": 101,
   "metadata": {},
   "outputs": [
    {
     "name": "stdout",
     "output_type": "stream",
     "text": [
      "Collecting package metadata (current_repodata.json): ...working... done\n",
      "Solving environment: ...working... done\n",
      "\n",
      "# All requested packages already installed.\n",
      "\n",
      "\n",
      "Note: you may need to restart the kernel to use updated packages.\n"
     ]
    }
   ],
   "source": [
    "conda install folium -c conda-forge"
   ]
  },
  {
   "cell_type": "code",
   "execution_count": 128,
   "metadata": {},
   "outputs": [
    {
     "data": {
      "text/html": [
       "<div style=\"width:100%;\"><div style=\"position:relative;width:100%;height:0;padding-bottom:60%;\"><iframe src=\"data:text/html;charset=utf-8;base64,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\" style=\"position:absolute;width:100%;height:100%;left:0;top:0;border:none !important;\" allowfullscreen webkitallowfullscreen mozallowfullscreen></iframe></div></div>"
      ],
      "text/plain": [
       "<folium.folium.Map at 0x22b13511898>"
      ]
     },
     "execution_count": 128,
     "metadata": {},
     "output_type": "execute_result"
    }
   ],
   "source": [
    "import folium \n",
    "import matplotlib.cm as cm\n",
    "import matplotlib.colors as colors\n",
    "\n",
    "# create map\n",
    "TOR_COORDINATES = (DFFeatures_merged['latitude'].mean(), DFFeatures_merged['longitude'].mean())\n",
    "\n",
    "map_clusters = folium.Map(location=TOR_COORDINATES, zoom_start=11)\n",
    "\n",
    "# set color scheme for the clusters\n",
    "x = np.arange(kclusters)\n",
    "ys = [i + x + (i*x)**2 for i in range(kclusters)]\n",
    "\n",
    "colors_array = cm.rainbow(np.linspace(0, 1, len(ys)))\n",
    "rainbow = [colors.rgb2hex(i) for i in colors_array]\n",
    "\n",
    "# add markers to the map\n",
    "markers_colors = []\n",
    "cluster_int = DFFeatures_merged['Cluster Labels'].apply(np.int64)\n",
    "\n",
    "for lat, lon, poi, cluster in zip(DFFeatures_merged['latitude'], DFFeatures_merged['longitude'], DFFeatures_merged['Neighbourhood'], cluster_int):\n",
    "    label = folium.Popup(str(poi) + ' Cluster ' + str(cluster), parse_html=True)\n",
    "    folium.CircleMarker(\n",
    "        [lat, lon],\n",
    "        radius=5,\n",
    "        popup=label,\n",
    "        color=rainbow[cluster-1],\n",
    "        fill=True,\n",
    "        fill_color=rainbow[cluster-1],\n",
    "        fill_opacity=0.7).add_to(map_clusters)\n",
    "       \n",
    "map_clusters"
   ]
  },
  {
   "cell_type": "code",
   "execution_count": null,
   "metadata": {},
   "outputs": [],
   "source": []
  }
 ],
 "metadata": {
  "kernelspec": {
   "display_name": "Python 3",
   "language": "python",
   "name": "python3"
  },
  "language_info": {
   "codemirror_mode": {
    "name": "ipython",
    "version": 3
   },
   "file_extension": ".py",
   "mimetype": "text/x-python",
   "name": "python",
   "nbconvert_exporter": "python",
   "pygments_lexer": "ipython3",
   "version": "3.7.3"
  }
 },
 "nbformat": 4,
 "nbformat_minor": 2
}
